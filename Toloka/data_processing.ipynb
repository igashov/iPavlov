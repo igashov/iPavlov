{
 "cells": [
  {
   "cell_type": "code",
   "execution_count": 13,
   "metadata": {
    "collapsed": true
   },
   "outputs": [],
   "source": [
    "import numpy as np\n",
    "import csv\n",
    "from nltk.tokenize import wordpunct_tokenize\n",
    "import pandas as pd"
   ]
  },
  {
   "cell_type": "code",
   "execution_count": 14,
   "metadata": {
    "collapsed": false
   },
   "outputs": [],
   "source": [
    "df = pd.read_csv(\"annotation_sentences.csv\")\n",
    "sentences = df['sentences'].tolist()"
   ]
  },
  {
   "cell_type": "code",
   "execution_count": 15,
   "metadata": {
    "collapsed": false
   },
   "outputs": [],
   "source": [
    "tokenized = []\n",
    "for s in sentences:\n",
    "    t = wordpunct_tokenize(s)\n",
    "#    if '\"' in t:\n",
    "#        t.remove('\"')    \n",
    "    tokenized.append(' '.join(map(str, t)))"
   ]
  },
  {
   "cell_type": "code",
   "execution_count": 16,
   "metadata": {
    "collapsed": false
   },
   "outputs": [
    {
     "data": {
      "text/plain": [
       "18901"
      ]
     },
     "execution_count": 16,
     "metadata": {},
     "output_type": "execute_result"
    }
   ],
   "source": [
    "len(tokenized)"
   ]
  },
  {
   "cell_type": "code",
   "execution_count": 32,
   "metadata": {
    "collapsed": false
   },
   "outputs": [],
   "source": [
    "with open('input.tsv', 'w') as f:\n",
    "    writer = csv.writer(f, delimiter='\\t')\n",
    "    writer.writerow(['INPUT:input'])\n",
    "    new_s = ''\n",
    "    for i, s in enumerate(tokenized):\n",
    "        if i > 50:\n",
    "            break\n",
    "        new_s += ' par_begin ' + s\n",
    "        if (i % 10 == 0) and (i > 0):\n",
    "            writer.writerow([new_s])\n",
    "            new_s = ''"
   ]
  },
  {
   "cell_type": "code",
   "execution_count": null,
   "metadata": {
    "collapsed": true
   },
   "outputs": [],
   "source": []
  },
  {
   "cell_type": "code",
   "execution_count": 6,
   "metadata": {
    "collapsed": true
   },
   "outputs": [],
   "source": [
    "with open('input.tsv', 'r') as f:\n",
    "    text = f.read().split('\\n')"
   ]
  },
  {
   "cell_type": "code",
   "execution_count": 7,
   "metadata": {
    "collapsed": false
   },
   "outputs": [
    {
     "name": "stdout",
     "output_type": "stream",
     "text": [
      "! 20792\n"
     ]
    }
   ],
   "source": [
    "for i, t in enumerate(text):\n",
    "    if t == '':\n",
    "        print('!', i)"
   ]
  },
  {
   "cell_type": "code",
   "execution_count": 9,
   "metadata": {
    "collapsed": false
   },
   "outputs": [
    {
     "data": {
      "text/plain": [
       "['Данные недостатки были обнаружены мной в ходе первого посещения тренажерного зала на Кантемировской 2011 г . в 22 часа 17 минут',\n",
       " 'Я , Жена , дочь и Сын , Сыну даже вкладыш выдали когда ему исполнилось 10 лет , что он гражданин РФ , Я с 1995 г . служу в армии РФ , побывал в горячих точках , и теперь Они хотят Меня лишить гражданства РФ , ( для ясности у меня Украинская Фамилия ), Я в шоке когда начальник Мне сказал понаехали тут , еле сдержался , так хотелось заехать .',\n",
       " 'Г . Москва , проезд Соломенной сторожки д . 14 Ответчик : мать',\n",
       " 'Признать за мной дочерью право пользования жилой площадью квартиры по адресу : Г . Москва ,',\n",
       " 'Организация имеет своим юридическим адресом - Калужскую область , город Калуга , улица Калужская , дом 12',\n",
       " 'Обособленное подразделение расположено в Москве по адресу : улица Московская , дом 34',\n",
       " 'Представить в регистрирующий орган : Решение ( Протокол ) участника ( участников ) о смене адреса , Устав в новой редакции , Заявление формы 13001 с нотариально удостоверенной подписью заявителя ( ей ), квитанция об уплате госпошлины 400 рублей , Гарантийное письмо или договор аренды .',\n",
       " 'Место отправления – 450000 г . Уфа , ул . Ленина , 28 .',\n",
       " '']"
      ]
     },
     "execution_count": 9,
     "metadata": {},
     "output_type": "execute_result"
    }
   ],
   "source": [
    "text[93:102]"
   ]
  },
  {
   "cell_type": "code",
   "execution_count": null,
   "metadata": {
    "collapsed": true
   },
   "outputs": [],
   "source": []
  }
 ],
 "metadata": {
  "anaconda-cloud": {},
  "kernelspec": {
   "display_name": "Python [anaconda]",
   "language": "python",
   "name": "Python [anaconda]"
  },
  "language_info": {
   "codemirror_mode": {
    "name": "ipython",
    "version": 3
   },
   "file_extension": ".py",
   "mimetype": "text/x-python",
   "name": "python",
   "nbconvert_exporter": "python",
   "pygments_lexer": "ipython3",
   "version": "3.5.2"
  }
 },
 "nbformat": 4,
 "nbformat_minor": 0
}
