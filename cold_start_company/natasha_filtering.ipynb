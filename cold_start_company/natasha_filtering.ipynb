{
 "cells": [
  {
   "cell_type": "code",
   "execution_count": 1,
   "metadata": {
    "collapsed": false
   },
   "outputs": [],
   "source": [
    "from natasha import OrganisationExtractor\n",
    "from natasha.markup import show_markup, show_json\n",
    "import tqdm\n",
    "import pandas as pd"
   ]
  },
  {
   "cell_type": "code",
   "execution_count": 2,
   "metadata": {
    "collapsed": false
   },
   "outputs": [
    {
     "name": "stdout",
     "output_type": "stream",
     "text": [
      "['Ищу двоюродного брата Трефилова Сергея Анатольевича.', 'Отец: Трефилов Анатолий ВасильевичМать: Абашева Зинаида', 'Здравствуйте!']\n"
     ]
    }
   ],
   "source": [
    "with open('sentences/find_people.txt', 'r') as f:\n",
    "    sentences = f.read().split('\\n')\n",
    "print(sentences[:3])"
   ]
  },
  {
   "cell_type": "code",
   "execution_count": 3,
   "metadata": {
    "collapsed": false
   },
   "outputs": [],
   "source": [
    "extractor = OrganisationExtractor()"
   ]
  },
  {
   "cell_type": "code",
   "execution_count": 4,
   "metadata": {
    "collapsed": false
   },
   "outputs": [
    {
     "name": "stderr",
     "output_type": "stream",
     "text": [
      "100%|██████████| 6043/6043 [01:26<00:00, 69.74it/s]\n"
     ]
    }
   ],
   "source": [
    "#print('FIRST 10 PARCED SENTENCES FOR EXAMPLE:')\n",
    "filtered = []\n",
    "for text in tqdm.tqdm(sentences):\n",
    "    matches = extractor(text)\n",
    "    spans = [_.span for _ in matches]\n",
    "    facts = [_.fact.as_json for _ in matches]\n",
    "    if len(facts) > 0:\n",
    "        # found organization!\n",
    "        filtered.append(text)\n",
    "    #if i < 10:\n",
    "    #    show_markup(text, spans)\n",
    "    #    show_json(facts)"
   ]
  },
  {
   "cell_type": "code",
   "execution_count": 5,
   "metadata": {
    "collapsed": false
   },
   "outputs": [
    {
     "data": {
      "text/plain": [
       "192"
      ]
     },
     "execution_count": 5,
     "metadata": {},
     "output_type": "execute_result"
    }
   ],
   "source": [
    "len(filtered)"
   ]
  },
  {
   "cell_type": "code",
   "execution_count": 6,
   "metadata": {
    "collapsed": false
   },
   "outputs": [],
   "source": [
    "with open(\"filtered.csv\", \"w\") as f:\n",
    "    for filt in filtered:\n",
    "        f.write(filt + '\\n')"
   ]
  },
  {
   "cell_type": "code",
   "execution_count": null,
   "metadata": {
    "collapsed": true
   },
   "outputs": [],
   "source": []
  }
 ],
 "metadata": {
  "anaconda-cloud": {},
  "kernelspec": {
   "display_name": "Python [Root]",
   "language": "python",
   "name": "Python [Root]"
  },
  "language_info": {
   "codemirror_mode": {
    "name": "ipython",
    "version": 3
   },
   "file_extension": ".py",
   "mimetype": "text/x-python",
   "name": "python",
   "nbconvert_exporter": "python",
   "pygments_lexer": "ipython3",
   "version": "3.5.2"
  }
 },
 "nbformat": 4,
 "nbformat_minor": 0
}
